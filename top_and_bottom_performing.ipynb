{
  "nbformat": 4,
  "nbformat_minor": 0,
  "metadata": {
    "kernelspec": {
      "display_name": "Python 3",
      "language": "python",
      "name": "python3"
    },
    "language_info": {
      "codemirror_mode": {
        "name": "ipython",
        "version": 3
      },
      "file_extension": ".py",
      "mimetype": "text/x-python",
      "name": "python",
      "nbconvert_exporter": "python",
      "pygments_lexer": "ipython3",
      "version": "3.6.3"
    },
    "colab": {
      "name": "top_and_bottom_performing.ipynb",
      "provenance": [],
      "include_colab_link": true
    }
  },
  "cells": [
    {
      "cell_type": "markdown",
      "metadata": {
        "id": "view-in-github",
        "colab_type": "text"
      },
      "source": [
        "<a href=\"https://colab.research.google.com/github/ellenne/AI_trading/blob/master/top_and_bottom_performing.ipynb\" target=\"_parent\"><img src=\"https://colab.research.google.com/assets/colab-badge.svg\" alt=\"Open In Colab\"/></a>"
      ]
    },
    {
      "cell_type": "markdown",
      "metadata": {
        "id": "WweGz6k-49N6",
        "colab_type": "text"
      },
      "source": [
        "# Top and Bottom Performing\n",
        "Let's look at how we might get the top performing stocks for a single period. For this example, we'll look at just a single month of closing prices:"
      ]
    },
    {
      "cell_type": "code",
      "metadata": {
        "id": "SZzA72ap49N7",
        "colab_type": "code",
        "colab": {},
        "outputId": "9502eb98-fb82-4b16-ca89-d23ee3cd47d7"
      },
      "source": [
        "import pandas as pd\n",
        "\n",
        "month = pd.to_datetime('02/01/2018')\n",
        "close_month = pd.DataFrame(\n",
        "    {\n",
        "        'A': 1,\n",
        "        'B': 12,\n",
        "        'C': 35,\n",
        "        'D': 3,\n",
        "        'E': 79,\n",
        "        'F': 2,\n",
        "        'G': 15,\n",
        "        'H': 59},\n",
        "    [month])\n",
        "\n",
        "close_month"
      ],
      "execution_count": 0,
      "outputs": [
        {
          "output_type": "execute_result",
          "data": {
            "text/html": [
              "<div>\n",
              "<style scoped>\n",
              "    .dataframe tbody tr th:only-of-type {\n",
              "        vertical-align: middle;\n",
              "    }\n",
              "\n",
              "    .dataframe tbody tr th {\n",
              "        vertical-align: top;\n",
              "    }\n",
              "\n",
              "    .dataframe thead th {\n",
              "        text-align: right;\n",
              "    }\n",
              "</style>\n",
              "<table border=\"1\" class=\"dataframe\">\n",
              "  <thead>\n",
              "    <tr style=\"text-align: right;\">\n",
              "      <th></th>\n",
              "      <th>A</th>\n",
              "      <th>B</th>\n",
              "      <th>C</th>\n",
              "      <th>D</th>\n",
              "      <th>E</th>\n",
              "      <th>F</th>\n",
              "      <th>G</th>\n",
              "      <th>H</th>\n",
              "    </tr>\n",
              "  </thead>\n",
              "  <tbody>\n",
              "    <tr>\n",
              "      <th>2018-02-01</th>\n",
              "      <td>1</td>\n",
              "      <td>12</td>\n",
              "      <td>35</td>\n",
              "      <td>3</td>\n",
              "      <td>79</td>\n",
              "      <td>2</td>\n",
              "      <td>15</td>\n",
              "      <td>59</td>\n",
              "    </tr>\n",
              "  </tbody>\n",
              "</table>\n",
              "</div>"
            ],
            "text/plain": [
              "            A   B   C  D   E  F   G   H\n",
              "2018-02-01  1  12  35  3  79  2  15  59"
            ]
          },
          "metadata": {
            "tags": []
          },
          "execution_count": 2
        }
      ]
    },
    {
      "cell_type": "markdown",
      "metadata": {
        "id": "CV_DTkx549N_",
        "colab_type": "text"
      },
      "source": [
        "`close_month` gives use the prices for the month of February, 2018 for all the stocks in this universe (A, B, C, ...). Looking at these prices, we can see that the top 2 performing stocks for that month was E and H with the prices 79 and 59.\n",
        "\n",
        "To get this using code, we can use the [`Series.nlargest`](https://pandas.pydata.org/pandas-docs/version/0.21/generated/pandas.Series.nlargest.html) function. This function returns the items with the *n* largest numbers. For the example we just talked about, our *n* is 2."
      ]
    },
    {
      "cell_type": "code",
      "metadata": {
        "id": "Ktx3dLAK49N_",
        "colab_type": "code",
        "colab": {},
        "outputId": "33b39c4c-b908-454d-b627-22e5af553c91"
      },
      "source": [
        "try:\n",
        "    # Attempt to run nlargest\n",
        "    close_month.nlargest(2)\n",
        "except TypeError as err:\n",
        "    print('Error: {}'.format(err))"
      ],
      "execution_count": 0,
      "outputs": [
        {
          "output_type": "stream",
          "text": [
            "Error: nlargest() missing 1 required positional argument: 'columns'\n"
          ],
          "name": "stdout"
        }
      ]
    },
    {
      "cell_type": "markdown",
      "metadata": {
        "id": "wagnxJvp49OC",
        "colab_type": "text"
      },
      "source": [
        "What happeened here? It turns out we're not calling the [`Series.nlargest`](https://pandas.pydata.org/pandas-docs/version/0.21/generated/pandas.Series.nlargest.html) function, we're actually calling [`DataFrame.nlargest`](https://pandas.pydata.org/pandas-docs/version/0.21/generated/pandas.DataFrame.nlargest.html), since `close_month` is a DataFrame. Let's get the Series from the dataframe using `.loc[month]`, where `month` is the 2018-02-01 index created above."
      ]
    },
    {
      "cell_type": "code",
      "metadata": {
        "id": "TNasWFaD49OC",
        "colab_type": "code",
        "colab": {},
        "outputId": "7e9ff26c-31a9-4e1d-df6a-438af05b0ea8"
      },
      "source": [
        "close_month.loc[month].nlargest(2)"
      ],
      "execution_count": 0,
      "outputs": [
        {
          "output_type": "execute_result",
          "data": {
            "text/plain": [
              "E    79\n",
              "H    59\n",
              "Name: 2018-02-01 00:00:00, dtype: int64"
            ]
          },
          "metadata": {
            "tags": []
          },
          "execution_count": 4
        }
      ]
    },
    {
      "cell_type": "markdown",
      "metadata": {
        "id": "cvlqXM7549OF",
        "colab_type": "text"
      },
      "source": [
        "Perfect! That gives us the top performing tickers for that month. Now, how do we get the bottom performing tickers? There's two ways to do this. You can use Panda's [`Series.nsmallest`](https://pandas.pydata.org/pandas-docs/version/0.21/generated/pandas.Series.nsmallest.html) function or just flip the sign on the prices and then apply [`DataFrame.nlargest`](https://pandas.pydata.org/pandas-docs/version/0.21/generated/pandas.DataFrame.nlargest.html). Either way is fine. For this course, we'll flip the sign with nlargest. This allows us to reuse any funtion created with nlargest to get the smallest.\n",
        "\n",
        "To get the bottom 2 performing tickers from `close_month`, we'll flip the sign."
      ]
    },
    {
      "cell_type": "code",
      "metadata": {
        "id": "9u5WZwHE49OF",
        "colab_type": "code",
        "colab": {},
        "outputId": "0e7b1279-9013-427a-d947-cbab39084d72"
      },
      "source": [
        "(-1 * close_month).loc[month].nlargest(2)"
      ],
      "execution_count": 0,
      "outputs": [
        {
          "output_type": "execute_result",
          "data": {
            "text/plain": [
              "A   -1\n",
              "F   -2\n",
              "Name: 2018-02-01 00:00:00, dtype: int64"
            ]
          },
          "metadata": {
            "tags": []
          },
          "execution_count": 5
        }
      ]
    },
    {
      "cell_type": "markdown",
      "metadata": {
        "id": "NVumTjyl49OI",
        "colab_type": "text"
      },
      "source": [
        "That gives us the bottom performing tickers, but not the actual prices. To get this, we can flip the sign from the output of nlargest."
      ]
    },
    {
      "cell_type": "code",
      "metadata": {
        "id": "kTIsYO-q49OI",
        "colab_type": "code",
        "colab": {},
        "outputId": "80450dad-8cd7-4c13-ae20-0f0205ee7b29"
      },
      "source": [
        "(-1 * close_month).loc[month].nlargest(2) *-1"
      ],
      "execution_count": 0,
      "outputs": [
        {
          "output_type": "execute_result",
          "data": {
            "text/plain": [
              "A    1\n",
              "F    2\n",
              "Name: 2018-02-01 00:00:00, dtype: int64"
            ]
          },
          "metadata": {
            "tags": []
          },
          "execution_count": 6
        }
      ]
    },
    {
      "cell_type": "markdown",
      "metadata": {
        "id": "dpsODXbE49OM",
        "colab_type": "text"
      },
      "source": [
        "Now you've seen how to get the top and bottom performing prices in a single month. Let's see if you can apply this knowledge.\n",
        "## Quiz\n",
        "Implement `date_top_industries` to find the top performing closing prices and return their sectors for a single date. The function should only return the [set](https://docs.python.org/3/tutorial/datastructures.html#sets) of sectors, there shouldn't be any duplicates returned.\n",
        "\n",
        "- The number of top performing prices to look at is represented by the parameter `top_n`.\n",
        "- The `date` parameter is the date to look for the top performing prices in the `prices` DataFrame.\n",
        "- The sector information for each ticker is located in the `sector` parameter.\n",
        "\n",
        "For example:\n",
        "```\n",
        "                 Prices\n",
        "               A         B         C         D         E\n",
        "2013-07-08     2         2         7         2         6\n",
        "2013-07-09     5         3         6         7         5\n",
        "...            ...       ...       ...\n",
        "\n",
        "           Sector\n",
        "A       \"Utilities\"       \n",
        "B       \"Health Care\"       \n",
        "C       \"Real Estate\"\n",
        "D       \"Real Estate\"\n",
        "E       \"Information Technology\"\n",
        "\n",
        "Date:  2013-07-09\n",
        "Top N: 3\n",
        "```\n",
        "The set created from the function `date_top_industries` should be the following:\n",
        "```\n",
        "{\"Utilities\", \"Real Estate\"}\n",
        "```\n",
        "*Note: Stock A and E have the same price for the date, but only A's sector got returned. We'll keep it simple and only take the first occurrences of ties.*"
      ]
    },
    {
      "cell_type": "code",
      "metadata": {
        "id": "aHMDuz3049OM",
        "colab_type": "code",
        "colab": {},
        "outputId": "9ae8ad54-a6ed-4452-eae6-4731a3fece69"
      },
      "source": [
        "import project_tests\n",
        "\n",
        "\n",
        "def date_top_industries(prices, sector, date, top_n):\n",
        "    \"\"\"\n",
        "    Get the set of the top industries for the date\n",
        "    \n",
        "    Parameters\n",
        "    ----------\n",
        "    prices : DataFrame\n",
        "        Prices for each ticker and date\n",
        "    sector : Series\n",
        "        Sector name for each ticker\n",
        "    date : Date\n",
        "        Date to get the top performers\n",
        "    top_n : int\n",
        "        Number of top performers to get\n",
        "    \n",
        "    Returns\n",
        "    -------\n",
        "    top_industries : set\n",
        "        Top industries for the date\n",
        "    \"\"\"\n",
        "    # TODO: Implement Function\n",
        "    # Solution: set(sector.loc[prices.loc[date].nlargest(top_n).index])\n",
        "    #\n",
        "    # 1. A = prices.loc[date].nlargest(top_n) --> we take the top prices - this is a Series\n",
        "    # 2. B = A.index                          --> this gives us the name of the ticker\n",
        "    # 3. C = sector.loc[B]                    --> with this we enter into sector and we take the name connected to the values\n",
        "    # 4. D = set(C)                           --> we convert this into a set \n",
        "    \n",
        "    print(\"Udacity Solution\")\n",
        "    \n",
        "    A = prices.loc[date].nlargest(top_n)\n",
        "    B = A.index\n",
        "    C = sector.loc[B]\n",
        "    D = set(C)\n",
        "    \n",
        "    print(A)\n",
        "    print(\"Type of A\",type(A))\n",
        "    \n",
        "    print(B)\n",
        "    print(\"Type of B\",type(B))\n",
        "    \n",
        "    print(C)\n",
        "    print(\"Type of C\",type(C))\n",
        "    \n",
        "    print(D)\n",
        "    print(\"Type of D\",type(D))\n",
        "    \n",
        "    \n",
        "    print(\"My Solution\")  \n",
        "    \n",
        "    high_prices = prices.loc[date].nlargest(top_n)\n",
        "    \n",
        "    df_output = (sector[high_prices.index]).to_frame()\n",
        "    list_sectors = df_output[0].values.tolist()\n",
        "    output_set = set(list_sectors)\n",
        "        \n",
        "    return output_set\n",
        "\n",
        "\n",
        "project_tests.test_date_top_industries(date_top_industries)"
      ],
      "execution_count": 0,
      "outputs": [
        {
          "output_type": "stream",
          "text": [
            "Udacity Solution\n",
            "MKZ    475.74195118\n",
            "XSU     24.80126542\n",
            "TUHP    17.90864387\n",
            "UENO    15.63570259\n",
            "Name: 2015-09-18, dtype: float64\n",
            "Type of A <class 'pandas.core.series.Series'>\n",
            "Index(['MKZ', 'XSU', 'TUHP', 'UENO'], dtype='object')\n",
            "Type of B <class 'pandas.core.indexes.base.Index'>\n",
            "MKZ         ENERGY\n",
            "XSU         HEALTH\n",
            "TUHP    TECHNOLOGY\n",
            "UENO        ENERGY\n",
            "dtype: object\n",
            "Type of C <class 'pandas.core.series.Series'>\n",
            "{'TECHNOLOGY', 'HEALTH', 'ENERGY'}\n",
            "Type of D <class 'set'>\n",
            "My Solution\n",
            "Tests Passed\n"
          ],
          "name": "stdout"
        }
      ]
    },
    {
      "cell_type": "markdown",
      "metadata": {
        "id": "EDZmO_BU49OO",
        "colab_type": "text"
      },
      "source": [
        "## Quiz Solution\n",
        "If you're having trouble, you can check out the quiz solution [here](top_and_bottom_performing_solution.ipynb)."
      ]
    }
  ]
}