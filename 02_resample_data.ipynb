{
  "nbformat": 4,
  "nbformat_minor": 0,
  "metadata": {
    "kernelspec": {
      "display_name": "Python 3",
      "language": "python",
      "name": "python3"
    },
    "language_info": {
      "codemirror_mode": {
        "name": "ipython",
        "version": 3
      },
      "file_extension": ".py",
      "mimetype": "text/x-python",
      "name": "python",
      "nbconvert_exporter": "python",
      "pygments_lexer": "ipython3",
      "version": "3.6.3"
    },
    "colab": {
      "name": "02_resample_data.ipynb",
      "provenance": [],
      "include_colab_link": true
    }
  },
  "cells": [
    {
      "cell_type": "markdown",
      "metadata": {
        "id": "view-in-github",
        "colab_type": "text"
      },
      "source": [
        "<a href=\"https://colab.research.google.com/github/ellenne/AI_trading/blob/master/02_resample_data.ipynb\" target=\"_parent\"><img src=\"https://colab.research.google.com/assets/colab-badge.svg\" alt=\"Open In Colab\"/></a>"
      ]
    },
    {
      "cell_type": "markdown",
      "metadata": {
        "id": "Sv3vIIsfRi5d",
        "colab_type": "text"
      },
      "source": [
        "# Resample Data\n",
        "## Pandas Resample\n",
        "You've learned about bucketing to different periods of time like Months. Let's see how it's done. We'll start with an example series of days."
      ]
    },
    {
      "cell_type": "code",
      "metadata": {
        "id": "bFF1wCxiRi5e",
        "colab_type": "code",
        "colab": {},
        "outputId": "008ba520-be46-46e4-9330-002cebb0fdac"
      },
      "source": [
        "import numpy as np\n",
        "import pandas as pd\n",
        "\n",
        "dates = pd.date_range('10/10/2018', periods=11, freq='D')\n",
        "close_prices = np.arange(len(dates))\n",
        "\n",
        "close = pd.Series(close_prices, dates)\n",
        "close"
      ],
      "execution_count": 0,
      "outputs": [
        {
          "output_type": "execute_result",
          "data": {
            "text/plain": [
              "2018-10-10     0\n",
              "2018-10-11     1\n",
              "2018-10-12     2\n",
              "2018-10-13     3\n",
              "2018-10-14     4\n",
              "2018-10-15     5\n",
              "2018-10-16     6\n",
              "2018-10-17     7\n",
              "2018-10-18     8\n",
              "2018-10-19     9\n",
              "2018-10-20    10\n",
              "Freq: D, dtype: int64"
            ]
          },
          "metadata": {
            "tags": []
          },
          "execution_count": 1
        }
      ]
    },
    {
      "cell_type": "markdown",
      "metadata": {
        "id": "IsuO6e1pRi5h",
        "colab_type": "text"
      },
      "source": [
        "Let's say we want to bucket these days into 3 day periods. To do that, we'll use the [DataFrame.resample](https://pandas.pydata.org/pandas-docs/version/0.21/generated/pandas.DataFrame.resample.html) function. The first parameter in this function is a string called `rule`, which is a representation of how to resample the data. This string representation is made using an offset alias. You can find a list of them [here](http://pandas.pydata.org/pandas-docs/stable/timeseries.html#offset-aliases). To create 3 day periods, we'll set `rule` to \"3D\"."
      ]
    },
    {
      "cell_type": "code",
      "metadata": {
        "id": "lLGAFJ0aRi5i",
        "colab_type": "code",
        "colab": {},
        "outputId": "6c36eb19-f161-4bef-88d0-dab1779d6ee0"
      },
      "source": [
        "close.resample('3D')"
      ],
      "execution_count": 0,
      "outputs": [
        {
          "output_type": "execute_result",
          "data": {
            "text/plain": [
              "DatetimeIndexResampler [freq=<3 * Days>, axis=0, closed=left, label=left, convention=start, base=0]"
            ]
          },
          "metadata": {
            "tags": []
          },
          "execution_count": 2
        }
      ]
    },
    {
      "cell_type": "markdown",
      "metadata": {
        "id": "JvEVRE4oRi5k",
        "colab_type": "text"
      },
      "source": [
        "This returns a `DatetimeIndexResampler` object. It's an intermediate object similar to the `GroupBy` object. Just like group by, it breaks the original data into groups. That means, we'll have to apply an operation to these groups. Let's make it simple and get the first element from each group."
      ]
    },
    {
      "cell_type": "code",
      "metadata": {
        "id": "bznYHqrmRi5l",
        "colab_type": "code",
        "colab": {},
        "outputId": "58b5c803-ce7b-410f-86a9-22a7577afc9e"
      },
      "source": [
        "close.resample('3D').first()"
      ],
      "execution_count": 0,
      "outputs": [
        {
          "output_type": "execute_result",
          "data": {
            "text/plain": [
              "2018-10-10    0\n",
              "2018-10-13    3\n",
              "2018-10-16    6\n",
              "2018-10-19    9\n",
              "dtype: int64"
            ]
          },
          "metadata": {
            "tags": []
          },
          "execution_count": 11
        }
      ]
    },
    {
      "cell_type": "markdown",
      "metadata": {
        "id": "B2yXvjiQRi5n",
        "colab_type": "text"
      },
      "source": [
        "You might notice that this is the same as `.iloc[::3]`"
      ]
    },
    {
      "cell_type": "code",
      "metadata": {
        "id": "WHvkZwUQRi5n",
        "colab_type": "code",
        "colab": {},
        "outputId": "3139b892-69c2-441f-ad82-0b4cfd3b92e7"
      },
      "source": [
        "close.iloc[::3]"
      ],
      "execution_count": 0,
      "outputs": [
        {
          "output_type": "execute_result",
          "data": {
            "text/plain": [
              "2018-10-10    0\n",
              "2018-10-13    3\n",
              "2018-10-16    6\n",
              "2018-10-19    9\n",
              "Freq: 3D, dtype: int64"
            ]
          },
          "metadata": {
            "tags": []
          },
          "execution_count": 8
        }
      ]
    },
    {
      "cell_type": "markdown",
      "metadata": {
        "id": "f9jaOpwbRi5p",
        "colab_type": "text"
      },
      "source": [
        "So, why use the `resample` function instead of `.iloc[::3]` or the `groupby` function?\n",
        "\n",
        "The `resample` function shines when handling time and/or date specific tasks. In fact, you can't use this function if the index isn't a [time-related class](https://pandas.pydata.org/pandas-docs/version/0.21/timeseries.html#overview)."
      ]
    },
    {
      "cell_type": "code",
      "metadata": {
        "id": "tz7ycLkrRi5q",
        "colab_type": "code",
        "colab": {},
        "outputId": "446284c9-1c5a-4659-efd6-e3c13e8fea81"
      },
      "source": [
        "try:\n",
        "    # Attempt resample on a series without a time index\n",
        "    pd.Series(close_prices).resample('W')\n",
        "except TypeError as e:\n",
        "    print('It threw a TypeError.',e)\n",
        "else:\n",
        "    print('It worked.')"
      ],
      "execution_count": 0,
      "outputs": [
        {
          "output_type": "stream",
          "text": [
            "It threw a TypeError. Only valid with DatetimeIndex, TimedeltaIndex or PeriodIndex, but got an instance of 'RangeIndex'\n"
          ],
          "name": "stdout"
        }
      ]
    },
    {
      "cell_type": "markdown",
      "metadata": {
        "id": "OTMYxKl_Ri5s",
        "colab_type": "text"
      },
      "source": [
        "One of the resampling tasks it can help with is resampling on periods, like weeks. Let's resample `close` from it's days frequency to weeks. We'll use the \"W\" offset allies, which stands for Weeks."
      ]
    },
    {
      "cell_type": "code",
      "metadata": {
        "id": "24E7U_iaRi5s",
        "colab_type": "code",
        "colab": {},
        "outputId": "eac035e3-6492-4f09-c29e-9d4e23084093"
      },
      "source": [
        "pd.DataFrame({\n",
        "    'days': close,\n",
        "    'weeks': close.resample('W').first()})"
      ],
      "execution_count": 0,
      "outputs": [
        {
          "output_type": "execute_result",
          "data": {
            "text/html": [
              "<div>\n",
              "<style scoped>\n",
              "    .dataframe tbody tr th:only-of-type {\n",
              "        vertical-align: middle;\n",
              "    }\n",
              "\n",
              "    .dataframe tbody tr th {\n",
              "        vertical-align: top;\n",
              "    }\n",
              "\n",
              "    .dataframe thead th {\n",
              "        text-align: right;\n",
              "    }\n",
              "</style>\n",
              "<table border=\"1\" class=\"dataframe\">\n",
              "  <thead>\n",
              "    <tr style=\"text-align: right;\">\n",
              "      <th></th>\n",
              "      <th>days</th>\n",
              "      <th>weeks</th>\n",
              "    </tr>\n",
              "  </thead>\n",
              "  <tbody>\n",
              "    <tr>\n",
              "      <th>2018-10-10</th>\n",
              "      <td>0.0</td>\n",
              "      <td>NaN</td>\n",
              "    </tr>\n",
              "    <tr>\n",
              "      <th>2018-10-11</th>\n",
              "      <td>1.0</td>\n",
              "      <td>NaN</td>\n",
              "    </tr>\n",
              "    <tr>\n",
              "      <th>2018-10-12</th>\n",
              "      <td>2.0</td>\n",
              "      <td>NaN</td>\n",
              "    </tr>\n",
              "    <tr>\n",
              "      <th>2018-10-13</th>\n",
              "      <td>3.0</td>\n",
              "      <td>NaN</td>\n",
              "    </tr>\n",
              "    <tr>\n",
              "      <th>2018-10-14</th>\n",
              "      <td>4.0</td>\n",
              "      <td>0.0</td>\n",
              "    </tr>\n",
              "    <tr>\n",
              "      <th>2018-10-15</th>\n",
              "      <td>5.0</td>\n",
              "      <td>NaN</td>\n",
              "    </tr>\n",
              "    <tr>\n",
              "      <th>2018-10-16</th>\n",
              "      <td>6.0</td>\n",
              "      <td>NaN</td>\n",
              "    </tr>\n",
              "    <tr>\n",
              "      <th>2018-10-17</th>\n",
              "      <td>7.0</td>\n",
              "      <td>NaN</td>\n",
              "    </tr>\n",
              "    <tr>\n",
              "      <th>2018-10-18</th>\n",
              "      <td>8.0</td>\n",
              "      <td>NaN</td>\n",
              "    </tr>\n",
              "    <tr>\n",
              "      <th>2018-10-19</th>\n",
              "      <td>9.0</td>\n",
              "      <td>NaN</td>\n",
              "    </tr>\n",
              "    <tr>\n",
              "      <th>2018-10-20</th>\n",
              "      <td>10.0</td>\n",
              "      <td>NaN</td>\n",
              "    </tr>\n",
              "    <tr>\n",
              "      <th>2018-10-21</th>\n",
              "      <td>NaN</td>\n",
              "      <td>5.0</td>\n",
              "    </tr>\n",
              "  </tbody>\n",
              "</table>\n",
              "</div>"
            ],
            "text/plain": [
              "            days  weeks\n",
              "2018-10-10   0.0    NaN\n",
              "2018-10-11   1.0    NaN\n",
              "2018-10-12   2.0    NaN\n",
              "2018-10-13   3.0    NaN\n",
              "2018-10-14   4.0    0.0\n",
              "2018-10-15   5.0    NaN\n",
              "2018-10-16   6.0    NaN\n",
              "2018-10-17   7.0    NaN\n",
              "2018-10-18   8.0    NaN\n",
              "2018-10-19   9.0    NaN\n",
              "2018-10-20  10.0    NaN\n",
              "2018-10-21   NaN    5.0"
            ]
          },
          "metadata": {
            "tags": []
          },
          "execution_count": 14
        }
      ]
    },
    {
      "cell_type": "markdown",
      "metadata": {
        "id": "fa4ME6euRi5v",
        "colab_type": "text"
      },
      "source": [
        "The weeks offset considers the start of a week on a Monday. Since 2018-10-10 is a Wednesday, the first group only looks at the first 5 items. There are offsets that handle more complicated problems like filtering for Holidays. For now, we'll only worry about resampling for days, weeks, months, quarters, and years. The frequency you want the data to be in, will depend on how often you'll be trading. If you're making trade decisions based on reports that come out at the end of the year, we might only care about a frequency of years or months.\n",
        "## OHLC\n",
        "Now that you've seen how Pandas resamples time series data, we can apply this to Open, High, Low, and Close (OHLC). Pandas provides the [`Resampler.ohlc`](https://pandas.pydata.org/pandas-docs/version/0.21.0/generated/pandas.core.resample.Resampler.ohlc.html#pandas.core.resample.Resampler.ohlc) function will convert any resampling frequency to OHLC data. Let's get the Weekly OHLC."
      ]
    },
    {
      "cell_type": "code",
      "metadata": {
        "id": "Nqwl011uRi5v",
        "colab_type": "code",
        "colab": {},
        "outputId": "f793e670-8886-4ea1-a0fc-8047d423341f"
      },
      "source": [
        "close.resample('W').ohlc()"
      ],
      "execution_count": 0,
      "outputs": [
        {
          "output_type": "execute_result",
          "data": {
            "text/html": [
              "<div>\n",
              "<style scoped>\n",
              "    .dataframe tbody tr th:only-of-type {\n",
              "        vertical-align: middle;\n",
              "    }\n",
              "\n",
              "    .dataframe tbody tr th {\n",
              "        vertical-align: top;\n",
              "    }\n",
              "\n",
              "    .dataframe thead th {\n",
              "        text-align: right;\n",
              "    }\n",
              "</style>\n",
              "<table border=\"1\" class=\"dataframe\">\n",
              "  <thead>\n",
              "    <tr style=\"text-align: right;\">\n",
              "      <th></th>\n",
              "      <th>open</th>\n",
              "      <th>high</th>\n",
              "      <th>low</th>\n",
              "      <th>close</th>\n",
              "    </tr>\n",
              "  </thead>\n",
              "  <tbody>\n",
              "    <tr>\n",
              "      <th>2018-10-14</th>\n",
              "      <td>0</td>\n",
              "      <td>4</td>\n",
              "      <td>0</td>\n",
              "      <td>4</td>\n",
              "    </tr>\n",
              "    <tr>\n",
              "      <th>2018-10-21</th>\n",
              "      <td>5</td>\n",
              "      <td>10</td>\n",
              "      <td>5</td>\n",
              "      <td>10</td>\n",
              "    </tr>\n",
              "  </tbody>\n",
              "</table>\n",
              "</div>"
            ],
            "text/plain": [
              "            open  high  low  close\n",
              "2018-10-14     0     4    0      4\n",
              "2018-10-21     5    10    5     10"
            ]
          },
          "metadata": {
            "tags": []
          },
          "execution_count": 15
        }
      ]
    },
    {
      "cell_type": "markdown",
      "metadata": {
        "id": "UKOyVAZ4Ri5x",
        "colab_type": "text"
      },
      "source": [
        "Can you spot a potential problem with that? It has to do with resampling data that has already been resampled.\n",
        "\n",
        "We're getting the OHLC from close data. If we want OHLC data from already resampled data, we should resample the first price from the open data, resample the highest price from the high data, etc..\n",
        "\n",
        "To get the weekly closing prices from `close`, you can use the [`Resampler.last`](https://pandas.pydata.org/pandas-docs/version/0.21.0/generated/pandas.core.resample.Resampler.last.html#pandas.core.resample.Resampler.last) function."
      ]
    },
    {
      "cell_type": "code",
      "metadata": {
        "id": "RrExrdraRi5y",
        "colab_type": "code",
        "colab": {},
        "outputId": "298153fb-0146-4c23-fdde-186d558023c1"
      },
      "source": [
        "close.resample('W').last()"
      ],
      "execution_count": 0,
      "outputs": [
        {
          "output_type": "execute_result",
          "data": {
            "text/plain": [
              "2018-10-14     4\n",
              "2018-10-21    10\n",
              "Freq: W-SUN, dtype: int64"
            ]
          },
          "metadata": {
            "tags": []
          },
          "execution_count": 16
        }
      ]
    },
    {
      "cell_type": "markdown",
      "metadata": {
        "id": "uw1AbKorRi50",
        "colab_type": "text"
      },
      "source": [
        "## Quiz\n",
        "Implement `days_to_weeks` function to resample OHLC price data to weekly OHLC price data. You find find more Resampler functions [here](https://pandas.pydata.org/pandas-docs/version/0.21.0/api.html#id44) for calculating high and low prices."
      ]
    },
    {
      "cell_type": "code",
      "metadata": {
        "id": "r_0Kn_UtRi50",
        "colab_type": "code",
        "colab": {},
        "outputId": "d0c31084-6010-4077-a866-ab7dcfd9aa6e"
      },
      "source": [
        "import quiz_tests\n",
        "\n",
        "\n",
        "def days_to_weeks(open_prices, high_prices, low_prices, close_prices):\n",
        "    \"\"\"Converts daily OHLC prices to weekly OHLC prices.\n",
        "    \n",
        "    Parameters\n",
        "    ----------\n",
        "    open_prices : DataFrame\n",
        "        Daily open prices for each ticker and date\n",
        "    high_prices : DataFrame\n",
        "        Daily high prices for each ticker and date\n",
        "    low_prices : DataFrame\n",
        "        Daily low prices for each ticker and date\n",
        "    close_prices : DataFrame\n",
        "        Daily close prices for each ticker and date\n",
        "\n",
        "    Returns\n",
        "    -------\n",
        "    open_prices_weekly : DataFrame\n",
        "        Weekly open prices for each ticker and date\n",
        "    high_prices_weekly : DataFrame\n",
        "        Weekly high prices for each ticker and date\n",
        "    low_prices_weekly : DataFrame\n",
        "        Weekly low prices for each ticker and date\n",
        "    close_prices_weekly : DataFrame\n",
        "        Weekly close prices for each ticker and date\n",
        "    \"\"\"\n",
        "    \n",
        "    # TODO: Implement Function \n",
        "    \n",
        "    open_prices_weekly = pd.DataFrame(open_prices.resample('W').first())\n",
        "    high_prices_weekly = pd.DataFrame(high_prices.resample('W').max())\n",
        "    low_prices_weekly = pd.DataFrame(low_prices.resample('W').min())\n",
        "    close_prices_weekly = pd.DataFrame(close_prices.resample('W').last())\n",
        "    \n",
        "    return open_prices_weekly, high_prices_weekly, low_prices_weekly, close_prices_weekly\n",
        "\n",
        "\n",
        "quiz_tests.test_days_to_weeks(days_to_weeks)"
      ],
      "execution_count": 0,
      "outputs": [
        {
          "output_type": "stream",
          "text": [
            "Tests Passed\n"
          ],
          "name": "stdout"
        }
      ]
    },
    {
      "cell_type": "markdown",
      "metadata": {
        "id": "bUaW5ZCXRi54",
        "colab_type": "text"
      },
      "source": [
        "## Quiz Solution\n",
        "If you're having trouble, you can check out the quiz solution [here](resample_data_solution.ipynb)."
      ]
    }
  ]
}