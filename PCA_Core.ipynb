{
 "cells": [
  {
   "cell_type": "code",
   "execution_count": 1,
   "metadata": {},
   "outputs": [
    {
     "data": {
      "text/html": [
       "\n",
       "    <div class=\"bk-root\">\n",
       "        <a href=\"https://bokeh.pydata.org\" target=\"_blank\" class=\"bk-logo bk-logo-small bk-logo-notebook\"></a>\n",
       "        <span id=\"8043ae64-ff09-47c7-8724-f785cae63edb\">Loading BokehJS ...</span>\n",
       "    </div>"
      ]
     },
     "metadata": {},
     "output_type": "display_data"
    },
    {
     "data": {
      "application/javascript": [
       "\n",
       "(function(root) {\n",
       "  function now() {\n",
       "    return new Date();\n",
       "  }\n",
       "\n",
       "  var force = true;\n",
       "\n",
       "  if (typeof (root._bokeh_onload_callbacks) === \"undefined\" || force === true) {\n",
       "    root._bokeh_onload_callbacks = [];\n",
       "    root._bokeh_is_loading = undefined;\n",
       "  }\n",
       "\n",
       "  var JS_MIME_TYPE = 'application/javascript';\n",
       "  var HTML_MIME_TYPE = 'text/html';\n",
       "  var EXEC_MIME_TYPE = 'application/vnd.bokehjs_exec.v0+json';\n",
       "  var CLASS_NAME = 'output_bokeh rendered_html';\n",
       "\n",
       "  /**\n",
       "   * Render data to the DOM node\n",
       "   */\n",
       "  function render(props, node) {\n",
       "    var script = document.createElement(\"script\");\n",
       "    node.appendChild(script);\n",
       "  }\n",
       "\n",
       "  /**\n",
       "   * Handle when an output is cleared or removed\n",
       "   */\n",
       "  function handleClearOutput(event, handle) {\n",
       "    var cell = handle.cell;\n",
       "\n",
       "    var id = cell.output_area._bokeh_element_id;\n",
       "    var server_id = cell.output_area._bokeh_server_id;\n",
       "    // Clean up Bokeh references\n",
       "    if (id !== undefined) {\n",
       "      Bokeh.index[id].model.document.clear();\n",
       "      delete Bokeh.index[id];\n",
       "    }\n",
       "\n",
       "    if (server_id !== undefined) {\n",
       "      // Clean up Bokeh references\n",
       "      var cmd = \"from bokeh.io.state import curstate; print(curstate().uuid_to_server['\" + server_id + \"'].get_sessions()[0].document.roots[0]._id)\";\n",
       "      cell.notebook.kernel.execute(cmd, {\n",
       "        iopub: {\n",
       "          output: function(msg) {\n",
       "            var element_id = msg.content.text.trim();\n",
       "            Bokeh.index[element_id].model.document.clear();\n",
       "            delete Bokeh.index[element_id];\n",
       "          }\n",
       "        }\n",
       "      });\n",
       "      // Destroy server and session\n",
       "      var cmd = \"import bokeh.io.notebook as ion; ion.destroy_server('\" + server_id + \"')\";\n",
       "      cell.notebook.kernel.execute(cmd);\n",
       "    }\n",
       "  }\n",
       "\n",
       "  /**\n",
       "   * Handle when a new output is added\n",
       "   */\n",
       "  function handleAddOutput(event, handle) {\n",
       "    var output_area = handle.output_area;\n",
       "    var output = handle.output;\n",
       "\n",
       "    // limit handleAddOutput to display_data with EXEC_MIME_TYPE content only\n",
       "    if ((output.output_type != \"display_data\") || (!output.data.hasOwnProperty(EXEC_MIME_TYPE))) {\n",
       "      return\n",
       "    }\n",
       "\n",
       "    var toinsert = output_area.element.find(\".\" + CLASS_NAME.split(' ')[0]);\n",
       "\n",
       "    if (output.metadata[EXEC_MIME_TYPE][\"id\"] !== undefined) {\n",
       "      toinsert[0].firstChild.textContent = output.data[JS_MIME_TYPE];\n",
       "      // store reference to embed id on output_area\n",
       "      output_area._bokeh_element_id = output.metadata[EXEC_MIME_TYPE][\"id\"];\n",
       "    }\n",
       "    if (output.metadata[EXEC_MIME_TYPE][\"server_id\"] !== undefined) {\n",
       "      var bk_div = document.createElement(\"div\");\n",
       "      bk_div.innerHTML = output.data[HTML_MIME_TYPE];\n",
       "      var script_attrs = bk_div.children[0].attributes;\n",
       "      for (var i = 0; i < script_attrs.length; i++) {\n",
       "        toinsert[0].firstChild.setAttribute(script_attrs[i].name, script_attrs[i].value);\n",
       "      }\n",
       "      // store reference to server id on output_area\n",
       "      output_area._bokeh_server_id = output.metadata[EXEC_MIME_TYPE][\"server_id\"];\n",
       "    }\n",
       "  }\n",
       "\n",
       "  function register_renderer(events, OutputArea) {\n",
       "\n",
       "    function append_mime(data, metadata, element) {\n",
       "      // create a DOM node to render to\n",
       "      var toinsert = this.create_output_subarea(\n",
       "        metadata,\n",
       "        CLASS_NAME,\n",
       "        EXEC_MIME_TYPE\n",
       "      );\n",
       "      this.keyboard_manager.register_events(toinsert);\n",
       "      // Render to node\n",
       "      var props = {data: data, metadata: metadata[EXEC_MIME_TYPE]};\n",
       "      render(props, toinsert[0]);\n",
       "      element.append(toinsert);\n",
       "      return toinsert\n",
       "    }\n",
       "\n",
       "    /* Handle when an output is cleared or removed */\n",
       "    events.on('clear_output.CodeCell', handleClearOutput);\n",
       "    events.on('delete.Cell', handleClearOutput);\n",
       "\n",
       "    /* Handle when a new output is added */\n",
       "    events.on('output_added.OutputArea', handleAddOutput);\n",
       "\n",
       "    /**\n",
       "     * Register the mime type and append_mime function with output_area\n",
       "     */\n",
       "    OutputArea.prototype.register_mime_type(EXEC_MIME_TYPE, append_mime, {\n",
       "      /* Is output safe? */\n",
       "      safe: true,\n",
       "      /* Index of renderer in `output_area.display_order` */\n",
       "      index: 0\n",
       "    });\n",
       "  }\n",
       "\n",
       "  // register the mime type if in Jupyter Notebook environment and previously unregistered\n",
       "  if (root.Jupyter !== undefined) {\n",
       "    var events = require('base/js/events');\n",
       "    var OutputArea = require('notebook/js/outputarea').OutputArea;\n",
       "\n",
       "    if (OutputArea.prototype.mime_types().indexOf(EXEC_MIME_TYPE) == -1) {\n",
       "      register_renderer(events, OutputArea);\n",
       "    }\n",
       "  }\n",
       "\n",
       "  \n",
       "  if (typeof (root._bokeh_timeout) === \"undefined\" || force === true) {\n",
       "    root._bokeh_timeout = Date.now() + 5000;\n",
       "    root._bokeh_failed_load = false;\n",
       "  }\n",
       "\n",
       "  var NB_LOAD_WARNING = {'data': {'text/html':\n",
       "     \"<div style='background-color: #fdd'>\\n\"+\n",
       "     \"<p>\\n\"+\n",
       "     \"BokehJS does not appear to have successfully loaded. If loading BokehJS from CDN, this \\n\"+\n",
       "     \"may be due to a slow or bad network connection. Possible fixes:\\n\"+\n",
       "     \"</p>\\n\"+\n",
       "     \"<ul>\\n\"+\n",
       "     \"<li>re-rerun `output_notebook()` to attempt to load from CDN again, or</li>\\n\"+\n",
       "     \"<li>use INLINE resources instead, as so:</li>\\n\"+\n",
       "     \"</ul>\\n\"+\n",
       "     \"<code>\\n\"+\n",
       "     \"from bokeh.resources import INLINE\\n\"+\n",
       "     \"output_notebook(resources=INLINE)\\n\"+\n",
       "     \"</code>\\n\"+\n",
       "     \"</div>\"}};\n",
       "\n",
       "  function display_loaded() {\n",
       "    var el = document.getElementById(\"8043ae64-ff09-47c7-8724-f785cae63edb\");\n",
       "    if (el != null) {\n",
       "      el.textContent = \"BokehJS is loading...\";\n",
       "    }\n",
       "    if (root.Bokeh !== undefined) {\n",
       "      if (el != null) {\n",
       "        el.textContent = \"BokehJS \" + root.Bokeh.version + \" successfully loaded.\";\n",
       "      }\n",
       "    } else if (Date.now() < root._bokeh_timeout) {\n",
       "      setTimeout(display_loaded, 100)\n",
       "    }\n",
       "  }\n",
       "\n",
       "\n",
       "  function run_callbacks() {\n",
       "    try {\n",
       "      root._bokeh_onload_callbacks.forEach(function(callback) { callback() });\n",
       "    }\n",
       "    finally {\n",
       "      delete root._bokeh_onload_callbacks\n",
       "    }\n",
       "    console.info(\"Bokeh: all callbacks have finished\");\n",
       "  }\n",
       "\n",
       "  function load_libs(js_urls, callback) {\n",
       "    root._bokeh_onload_callbacks.push(callback);\n",
       "    if (root._bokeh_is_loading > 0) {\n",
       "      console.log(\"Bokeh: BokehJS is being loaded, scheduling callback at\", now());\n",
       "      return null;\n",
       "    }\n",
       "    if (js_urls == null || js_urls.length === 0) {\n",
       "      run_callbacks();\n",
       "      return null;\n",
       "    }\n",
       "    console.log(\"Bokeh: BokehJS not loaded, scheduling load and callback at\", now());\n",
       "    root._bokeh_is_loading = js_urls.length;\n",
       "    for (var i = 0; i < js_urls.length; i++) {\n",
       "      var url = js_urls[i];\n",
       "      var s = document.createElement('script');\n",
       "      s.src = url;\n",
       "      s.async = false;\n",
       "      s.onreadystatechange = s.onload = function() {\n",
       "        root._bokeh_is_loading--;\n",
       "        if (root._bokeh_is_loading === 0) {\n",
       "          console.log(\"Bokeh: all BokehJS libraries loaded\");\n",
       "          run_callbacks()\n",
       "        }\n",
       "      };\n",
       "      s.onerror = function() {\n",
       "        console.warn(\"failed to load library \" + url);\n",
       "      };\n",
       "      console.log(\"Bokeh: injecting script tag for BokehJS library: \", url);\n",
       "      document.getElementsByTagName(\"head\")[0].appendChild(s);\n",
       "    }\n",
       "  };var element = document.getElementById(\"8043ae64-ff09-47c7-8724-f785cae63edb\");\n",
       "  if (element == null) {\n",
       "    console.log(\"Bokeh: ERROR: autoload.js configured with elementid '8043ae64-ff09-47c7-8724-f785cae63edb' but no matching script tag was found. \")\n",
       "    return false;\n",
       "  }\n",
       "\n",
       "  var js_urls = [\"https://cdn.pydata.org/bokeh/release/bokeh-0.12.13.min.js\", \"https://cdn.pydata.org/bokeh/release/bokeh-widgets-0.12.13.min.js\", \"https://cdn.pydata.org/bokeh/release/bokeh-tables-0.12.13.min.js\", \"https://cdn.pydata.org/bokeh/release/bokeh-gl-0.12.13.min.js\"];\n",
       "\n",
       "  var inline_js = [\n",
       "    function(Bokeh) {\n",
       "      Bokeh.set_log_level(\"info\");\n",
       "    },\n",
       "    \n",
       "    function(Bokeh) {\n",
       "      \n",
       "    },\n",
       "    function(Bokeh) {\n",
       "      console.log(\"Bokeh: injecting CSS: https://cdn.pydata.org/bokeh/release/bokeh-0.12.13.min.css\");\n",
       "      Bokeh.embed.inject_css(\"https://cdn.pydata.org/bokeh/release/bokeh-0.12.13.min.css\");\n",
       "      console.log(\"Bokeh: injecting CSS: https://cdn.pydata.org/bokeh/release/bokeh-widgets-0.12.13.min.css\");\n",
       "      Bokeh.embed.inject_css(\"https://cdn.pydata.org/bokeh/release/bokeh-widgets-0.12.13.min.css\");\n",
       "      console.log(\"Bokeh: injecting CSS: https://cdn.pydata.org/bokeh/release/bokeh-tables-0.12.13.min.css\");\n",
       "      Bokeh.embed.inject_css(\"https://cdn.pydata.org/bokeh/release/bokeh-tables-0.12.13.min.css\");\n",
       "    }\n",
       "  ];\n",
       "\n",
       "  function run_inline_js() {\n",
       "    \n",
       "    if ((root.Bokeh !== undefined) || (force === true)) {\n",
       "      for (var i = 0; i < inline_js.length; i++) {\n",
       "        inline_js[i].call(root, root.Bokeh);\n",
       "      }if (force === true) {\n",
       "        display_loaded();\n",
       "      }} else if (Date.now() < root._bokeh_timeout) {\n",
       "      setTimeout(run_inline_js, 100);\n",
       "    } else if (!root._bokeh_failed_load) {\n",
       "      console.log(\"Bokeh: BokehJS failed to load within specified timeout.\");\n",
       "      root._bokeh_failed_load = true;\n",
       "    } else if (force !== true) {\n",
       "      var cell = $(document.getElementById(\"8043ae64-ff09-47c7-8724-f785cae63edb\")).parents('.cell').data().cell;\n",
       "      cell.output_area.append_execute_result(NB_LOAD_WARNING)\n",
       "    }\n",
       "\n",
       "  }\n",
       "\n",
       "  if (root._bokeh_is_loading === 0) {\n",
       "    console.log(\"Bokeh: BokehJS loaded, going straight to plotting\");\n",
       "    run_inline_js();\n",
       "  } else {\n",
       "    load_libs(js_urls, function() {\n",
       "      console.log(\"Bokeh: BokehJS plotting callback run at\", now());\n",
       "      run_inline_js();\n",
       "    });\n",
       "  }\n",
       "}(window));"
      ],
      "application/vnd.bokehjs_load.v0+json": "\n(function(root) {\n  function now() {\n    return new Date();\n  }\n\n  var force = true;\n\n  if (typeof (root._bokeh_onload_callbacks) === \"undefined\" || force === true) {\n    root._bokeh_onload_callbacks = [];\n    root._bokeh_is_loading = undefined;\n  }\n\n  \n\n  \n  if (typeof (root._bokeh_timeout) === \"undefined\" || force === true) {\n    root._bokeh_timeout = Date.now() + 5000;\n    root._bokeh_failed_load = false;\n  }\n\n  var NB_LOAD_WARNING = {'data': {'text/html':\n     \"<div style='background-color: #fdd'>\\n\"+\n     \"<p>\\n\"+\n     \"BokehJS does not appear to have successfully loaded. If loading BokehJS from CDN, this \\n\"+\n     \"may be due to a slow or bad network connection. Possible fixes:\\n\"+\n     \"</p>\\n\"+\n     \"<ul>\\n\"+\n     \"<li>re-rerun `output_notebook()` to attempt to load from CDN again, or</li>\\n\"+\n     \"<li>use INLINE resources instead, as so:</li>\\n\"+\n     \"</ul>\\n\"+\n     \"<code>\\n\"+\n     \"from bokeh.resources import INLINE\\n\"+\n     \"output_notebook(resources=INLINE)\\n\"+\n     \"</code>\\n\"+\n     \"</div>\"}};\n\n  function display_loaded() {\n    var el = document.getElementById(\"8043ae64-ff09-47c7-8724-f785cae63edb\");\n    if (el != null) {\n      el.textContent = \"BokehJS is loading...\";\n    }\n    if (root.Bokeh !== undefined) {\n      if (el != null) {\n        el.textContent = \"BokehJS \" + root.Bokeh.version + \" successfully loaded.\";\n      }\n    } else if (Date.now() < root._bokeh_timeout) {\n      setTimeout(display_loaded, 100)\n    }\n  }\n\n\n  function run_callbacks() {\n    try {\n      root._bokeh_onload_callbacks.forEach(function(callback) { callback() });\n    }\n    finally {\n      delete root._bokeh_onload_callbacks\n    }\n    console.info(\"Bokeh: all callbacks have finished\");\n  }\n\n  function load_libs(js_urls, callback) {\n    root._bokeh_onload_callbacks.push(callback);\n    if (root._bokeh_is_loading > 0) {\n      console.log(\"Bokeh: BokehJS is being loaded, scheduling callback at\", now());\n      return null;\n    }\n    if (js_urls == null || js_urls.length === 0) {\n      run_callbacks();\n      return null;\n    }\n    console.log(\"Bokeh: BokehJS not loaded, scheduling load and callback at\", now());\n    root._bokeh_is_loading = js_urls.length;\n    for (var i = 0; i < js_urls.length; i++) {\n      var url = js_urls[i];\n      var s = document.createElement('script');\n      s.src = url;\n      s.async = false;\n      s.onreadystatechange = s.onload = function() {\n        root._bokeh_is_loading--;\n        if (root._bokeh_is_loading === 0) {\n          console.log(\"Bokeh: all BokehJS libraries loaded\");\n          run_callbacks()\n        }\n      };\n      s.onerror = function() {\n        console.warn(\"failed to load library \" + url);\n      };\n      console.log(\"Bokeh: injecting script tag for BokehJS library: \", url);\n      document.getElementsByTagName(\"head\")[0].appendChild(s);\n    }\n  };var element = document.getElementById(\"8043ae64-ff09-47c7-8724-f785cae63edb\");\n  if (element == null) {\n    console.log(\"Bokeh: ERROR: autoload.js configured with elementid '8043ae64-ff09-47c7-8724-f785cae63edb' but no matching script tag was found. \")\n    return false;\n  }\n\n  var js_urls = [\"https://cdn.pydata.org/bokeh/release/bokeh-0.12.13.min.js\", \"https://cdn.pydata.org/bokeh/release/bokeh-widgets-0.12.13.min.js\", \"https://cdn.pydata.org/bokeh/release/bokeh-tables-0.12.13.min.js\", \"https://cdn.pydata.org/bokeh/release/bokeh-gl-0.12.13.min.js\"];\n\n  var inline_js = [\n    function(Bokeh) {\n      Bokeh.set_log_level(\"info\");\n    },\n    \n    function(Bokeh) {\n      \n    },\n    function(Bokeh) {\n      console.log(\"Bokeh: injecting CSS: https://cdn.pydata.org/bokeh/release/bokeh-0.12.13.min.css\");\n      Bokeh.embed.inject_css(\"https://cdn.pydata.org/bokeh/release/bokeh-0.12.13.min.css\");\n      console.log(\"Bokeh: injecting CSS: https://cdn.pydata.org/bokeh/release/bokeh-widgets-0.12.13.min.css\");\n      Bokeh.embed.inject_css(\"https://cdn.pydata.org/bokeh/release/bokeh-widgets-0.12.13.min.css\");\n      console.log(\"Bokeh: injecting CSS: https://cdn.pydata.org/bokeh/release/bokeh-tables-0.12.13.min.css\");\n      Bokeh.embed.inject_css(\"https://cdn.pydata.org/bokeh/release/bokeh-tables-0.12.13.min.css\");\n    }\n  ];\n\n  function run_inline_js() {\n    \n    if ((root.Bokeh !== undefined) || (force === true)) {\n      for (var i = 0; i < inline_js.length; i++) {\n        inline_js[i].call(root, root.Bokeh);\n      }if (force === true) {\n        display_loaded();\n      }} else if (Date.now() < root._bokeh_timeout) {\n      setTimeout(run_inline_js, 100);\n    } else if (!root._bokeh_failed_load) {\n      console.log(\"Bokeh: BokehJS failed to load within specified timeout.\");\n      root._bokeh_failed_load = true;\n    } else if (force !== true) {\n      var cell = $(document.getElementById(\"8043ae64-ff09-47c7-8724-f785cae63edb\")).parents('.cell').data().cell;\n      cell.output_area.append_execute_result(NB_LOAD_WARNING)\n    }\n\n  }\n\n  if (root._bokeh_is_loading === 0) {\n    console.log(\"Bokeh: BokehJS loaded, going straight to plotting\");\n    run_inline_js();\n  } else {\n    load_libs(js_urls, function() {\n      console.log(\"Bokeh: BokehJS plotting callback run at\", now());\n      run_inline_js();\n    });\n  }\n}(window));"
     },
     "metadata": {},
     "output_type": "display_data"
    }
   ],
   "source": [
    "import numpy as np\n",
    "from scipy.stats import norm\n",
    "import matplotlib.pylab as plt\n",
    "import pandas as pd\n",
    "from bokeh.layouts import row, widgetbox, layout, gridplot\n",
    "from bokeh.models import CustomJS, Slider\n",
    "from bokeh.plotting import figure, output_file, show, ColumnDataSource\n",
    "from bokeh.models.glyphs import MultiLine\n",
    "from bokeh.io import output_notebook\n",
    "from bokeh.models.widgets import Div\n",
    "%matplotlib inline\n",
    "output_notebook()"
   ]
  },
  {
   "cell_type": "markdown",
   "metadata": {},
   "source": [
    "## Create Fake Data\n",
    "Let's start by generating a wee fake dataset."
   ]
  },
  {
   "cell_type": "code",
   "execution_count": 2,
   "metadata": {},
   "outputs": [],
   "source": [
    "num_data = 5\n",
    "X = norm.rvs(size=(num_data,2), random_state=4)*2\n",
    "X = np.dot(X, np.linalg.cholesky([[1, 0.8], [0.8, 0.8]]))\n",
    "m = X.mean(axis=0)\n",
    "X = X - m"
   ]
  },
  {
   "cell_type": "markdown",
   "metadata": {},
   "source": [
    "Let's take a look at the data we generated."
   ]
  },
  {
   "cell_type": "code",
   "execution_count": 3,
   "metadata": {},
   "outputs": [
    {
     "data": {
      "text/plain": [
       "array([[ 1.87346497,  0.55034968],\n",
       "       [ 0.09035918,  0.70526742],\n",
       "       [-2.39950719, -1.11727317],\n",
       "       [ 0.63472617,  0.62924876],\n",
       "       [-0.19904312, -0.76759269]])"
      ]
     },
     "execution_count": 3,
     "metadata": {},
     "output_type": "execute_result"
    }
   ],
   "source": [
    "X"
   ]
  },
  {
   "cell_type": "code",
   "execution_count": 7,
   "metadata": {},
   "outputs": [
    {
     "data": {
      "text/plain": [
       "array([[ 1. ,  0. ],\n",
       "       [ 0.8,  0.4]])"
      ]
     },
     "execution_count": 7,
     "metadata": {},
     "output_type": "execute_result"
    }
   ],
   "source": [
    "np.linalg.cholesky([[1, 0.8], [0.8, 0.8]])"
   ]
  },
  {
   "cell_type": "code",
   "execution_count": 8,
   "metadata": {},
   "outputs": [
    {
     "data": {
      "text/plain": [
       "array([-0.97241942, -0.15038862])"
      ]
     },
     "execution_count": 8,
     "metadata": {},
     "output_type": "execute_result"
    }
   ],
   "source": [
    "m"
   ]
  },
  {
   "cell_type": "code",
   "execution_count": 4,
   "metadata": {
    "scrolled": true
   },
   "outputs": [
    {
     "data": {
      "text/plain": [
       "<matplotlib.collections.PathCollection at 0x7f8a3f341080>"
      ]
     },
     "execution_count": 4,
     "metadata": {},
     "output_type": "execute_result"
    },
    {
     "data": {
      "image/png": "[encoded data removed]",
      "text/plain": [
       "<matplotlib.figure.Figure at 0x7f8a6c1f6f60>"
      ]
     },
     "metadata": {
      "needs_background": "light"
     },
     "output_type": "display_data"
    }
   ],
   "source": [
    "plt.scatter(X[:, 0],X[:, 1])"
   ]
  },
  {
   "cell_type": "markdown",
   "metadata": {},
   "source": [
    "## An Interactive Plot\n",
    "Now we'll create an interactive plot with these data."
   ]
  },
  {
   "cell_type": "code",
   "execution_count": 5,
   "metadata": {},
   "outputs": [
    {
     "data": {
      "text/html": [
       "\n",
       "<div class=\"bk-root\">\n",
       "    <div class=\"bk-plotdiv\" id=\"b2cbebbe-9f92-405c-beb5-0abfbeba888c\"></div>\n",
       "</div>"
      ]
     },
     "metadata": {},
     "output_type": "display_data"
    },
    {
     "data": {
      "application/javascript": [
       "(function(root) {\n",
       "  function embed_document(root) {\n",
       "    \n",
       "  var docs_json = {\"d5b8bd16-070c-43b1-8962-164a66719792\":{\"roots\":{\"references\":[{\"attributes\":{},\"id\":\"d4f4aa8e-5d5f-448c-8e29-fbba2c396818\",\"type\":\"BasicTickFormatter\"},{\"attributes\":{\"fill_alpha\":{\"value\":0.6},\"fill_color\":{\"value\":\"navy\"},\"line_alpha\":{\"value\":0.6},\"line_color\":{\"value\":\"navy\"},\"size\":{\"units\":\"screen\",\"value\":5},\"x\":{\"field\":\"x0\"},\"y\":{\"field\":\"x1\"}},\"id\":\"80b4512a-e161-4b0e-bcbe-fe04d87cdaeb\",\"type\":\"Circle\"},{\"attributes\":{\"fill_alpha\":{\"value\":0.1},\"fill_color\":{\"value\":\"#1f77b4\"},\"line_alpha\":{\"value\":0.1},\"line_color\":{\"value\":\"#1f77b4\"},\"size\":{\"units\":\"screen\",\"value\":5},\"x\":{\"field\":\"x0\"},\"y\":{\"field\":\"x1\"}},\"id\":\"c31e5b81-b9ad-4be7-a5d3-0e02b3d1417c\",\"type\":\"Circle\"},{\"attributes\":{\"data_source\":{\"id\":\"d8f8ffa4-3d53-4cbe-8a7f-79b4850fce8f\",\"type\":\"ColumnDataSource\"},\"glyph\":{\"id\":\"80b4512a-e161-4b0e-bcbe-fe04d87cdaeb\",\"type\":\"Circle\"},\"hover_glyph\":null,\"muted_glyph\":null,\"nonselection_glyph\":{\"id\":\"c31e5b81-b9ad-4be7-a5d3-0e02b3d1417c\",\"type\":\"Circle\"},\"selection_glyph\":null,\"view\":{\"id\":\"90d781a5-a750-46b3-aaaf-6873a57afed2\",\"type\":\"CDSView\"}},\"id\":\"43d0d3ee-58ad-4555-bb3a-bbd84b4320ee\",\"type\":\"GlyphRenderer\"},{\"attributes\":{\"source\":{\"id\":\"d8f8ffa4-3d53-4cbe-8a7f-79b4850fce8f\",\"type\":\"ColumnDataSource\"}},\"id\":\"90d781a5-a750-46b3-aaaf-6873a57afed2\",\"type\":\"CDSView\"},{\"attributes\":{\"plot\":null,\"text\":\"\"},\"id\":\"63c8b1ed-bbcc-41d8-87f2-b8e6013426ec\",\"type\":\"Title\"},{\"attributes\":{\"fill_alpha\":{\"value\":0.6},\"fill_color\":{\"value\":\"firebrick\"},\"line_alpha\":{\"value\":0.6},\"line_color\":{\"value\":\"firebrick\"},\"x\":{\"field\":\"z0\"},\"y\":{\"field\":\"z1\"}},\"id\":\"486fd012-601b-431d-807e-9084c10c7cae\",\"type\":\"Circle\"},{\"attributes\":{\"callback\":{\"id\":\"4675ed48-cfd8-452f-bbfc-c84dd74e50dd\",\"type\":\"CustomJS\"},\"end\":180,\"start\":0,\"step\":0.05,\"title\":\"Angle\",\"value\":1},\"id\":\"6b76c6c0-fc86-4547-baf3-64de76c57d45\",\"type\":\"Slider\"},{\"attributes\":{\"line_color\":{\"value\":\"#8073ac\"},\"xs\":{\"field\":\"x0s\"},\"ys\":{\"field\":\"x1s\"}},\"id\":\"0a4cb821-9913-45f8-84b0-b72c9f1d0243\",\"type\":\"MultiLine\"},{\"attributes\":{},\"id\":\"9c743c7e-f253-480d-8d6a-5358f3781c1f\",\"type\":\"BasicTickFormatter\"},{\"attributes\":{\"line_alpha\":0.1,\"line_color\":\"#1f77b4\",\"x\":{\"field\":\"z0\"},\"y\":{\"field\":\"z1\"}},\"id\":\"a97901b1-3e44-4c63-bb4a-f17c3746eaec\",\"type\":\"Line\"},{\"attributes\":{\"line_alpha\":0.5,\"x\":{\"field\":\"z0\"},\"y\":{\"field\":\"z1\"}},\"id\":\"aff500cd-eec6-40c9-9ae5-3e68b8e2fbf8\",\"type\":\"Line\"},{\"attributes\":{\"data_source\":{\"id\":\"d8f8ffa4-3d53-4cbe-8a7f-79b4850fce8f\",\"type\":\"ColumnDataSource\"},\"glyph\":{\"id\":\"aff500cd-eec6-40c9-9ae5-3e68b8e2fbf8\",\"type\":\"Line\"},\"hover_glyph\":null,\"muted_glyph\":null,\"nonselection_glyph\":{\"id\":\"a97901b1-3e44-4c63-bb4a-f17c3746eaec\",\"type\":\"Line\"},\"selection_glyph\":null,\"view\":{\"id\":\"45e4ab9a-a755-4163-872d-42b2df7bf3b7\",\"type\":\"CDSView\"}},\"id\":\"f80f2623-4e56-4052-86a5-c3cc8566cab9\",\"type\":\"GlyphRenderer\"},{\"attributes\":{\"source\":{\"id\":\"d8f8ffa4-3d53-4cbe-8a7f-79b4850fce8f\",\"type\":\"ColumnDataSource\"}},\"id\":\"45e4ab9a-a755-4163-872d-42b2df7bf3b7\",\"type\":\"CDSView\"},{\"attributes\":{\"args\":{\"ang\":{\"id\":\"6b76c6c0-fc86-4547-baf3-64de76c57d45\",\"type\":\"Slider\"},\"source\":{\"id\":\"d8f8ffa4-3d53-4cbe-8a7f-79b4850fce8f\",\"type\":\"ColumnDataSource\"}},\"code\":\"\\n    var data = source.data;\\n    var x0 = data['x0']\\n    var x1 = data['x1']\\n    \\n    var d = data['d']\\n    \\n    var z0 = data['z0']\\n    var z1 = data['z1']\\n    \\n    var x0s = data['x0s']\\n    var x1s = data['x1s']\\n    \\n    var A = ang.value*Math.PI/180;\\n\\n    var w = [Math.cos(A), Math.sin(A)];\\n\\n    for (var i = 0; i < x0.length; i++) {\\n        d[i] = x0[i]*w[0] + x1[i]*w[1];\\n        z0[i] = w[0]*d[i];\\n        z1[i] = w[1]*d[i];\\n        x0s[i] = [x0[i], z0[i]];\\n        x1s[i] = [x1[i], z1[i]];\\n    }\\n\\n    data['z0'] = z0\\n    data['z1'] = z1\\n    data['x0s'] = x0s\\n    data['x1s'] = x1s\\n    data['d'] = d\\n    \\n    source.change.emit();\\n\"},\"id\":\"4675ed48-cfd8-452f-bbfc-c84dd74e50dd\",\"type\":\"CustomJS\"},{\"attributes\":{\"fill_alpha\":{\"value\":0.1},\"fill_color\":{\"value\":\"#1f77b4\"},\"line_alpha\":{\"value\":0.1},\"line_color\":{\"value\":\"#1f77b4\"},\"x\":{\"field\":\"z0\"},\"y\":{\"field\":\"z1\"}},\"id\":\"87a52056-d7ec-4ca4-a932-e924abc31b75\",\"type\":\"Circle\"},{\"attributes\":{\"data_source\":{\"id\":\"d8f8ffa4-3d53-4cbe-8a7f-79b4850fce8f\",\"type\":\"ColumnDataSource\"},\"glyph\":{\"id\":\"486fd012-601b-431d-807e-9084c10c7cae\",\"type\":\"Circle\"},\"hover_glyph\":null,\"muted_glyph\":null,\"nonselection_glyph\":{\"id\":\"87a52056-d7ec-4ca4-a932-e924abc31b75\",\"type\":\"Circle\"},\"selection_glyph\":null,\"view\":{\"id\":\"46827ac5-618e-4ca7-a325-e95262077727\",\"type\":\"CDSView\"}},\"id\":\"537da0a5-b8fe-420e-bf12-2f34fb301c4d\",\"type\":\"GlyphRenderer\"},{\"attributes\":{\"source\":{\"id\":\"d8f8ffa4-3d53-4cbe-8a7f-79b4850fce8f\",\"type\":\"ColumnDataSource\"}},\"id\":\"46827ac5-618e-4ca7-a325-e95262077727\",\"type\":\"CDSView\"},{\"attributes\":{\"data_source\":{\"id\":\"d8f8ffa4-3d53-4cbe-8a7f-79b4850fce8f\",\"type\":\"ColumnDataSource\"},\"glyph\":{\"id\":\"0a4cb821-9913-45f8-84b0-b72c9f1d0243\",\"type\":\"MultiLine\"},\"hover_glyph\":null,\"muted_glyph\":null,\"view\":{\"id\":\"3ffe52cf-da4c-40d8-baa2-adc258bf35ca\",\"type\":\"CDSView\"}},\"id\":\"cd59757f-9769-4cbe-a8a6-32871b4bdaff\",\"type\":\"GlyphRenderer\"},{\"attributes\":{\"height\":100,\"text\":\"Instructions: There's a lot of code in the cell above! What just happened? The blue dots are our original data points. We are choosing the direction of the first PC for this dataset; this direction is represented by the black line. The red dots are the projections of the data onto the new basis direction. Using the slider bar, change the angle of the new basis direction, and observe how the projections and the variance of the projections, represented by the spread of the points in the plot on the right, change.\",\"width\":900},\"id\":\"2379ab21-ed5a-4d9b-82d1-c34e414302cb\",\"type\":\"Div\"},{\"attributes\":{\"source\":{\"id\":\"d8f8ffa4-3d53-4cbe-8a7f-79b4850fce8f\",\"type\":\"ColumnDataSource\"}},\"id\":\"3ffe52cf-da4c-40d8-baa2-adc258bf35ca\",\"type\":\"CDSView\"},{\"attributes\":{\"fill_alpha\":{\"value\":0.6},\"fill_color\":{\"value\":\"firebrick\"},\"line_alpha\":{\"value\":0.6},\"line_color\":{\"value\":\"firebrick\"},\"x\":{\"field\":\"d\"},\"y\":{\"field\":\"dzs\"}},\"id\":\"6e644b1e-78d3-4b5a-8ea2-2750c690472f\",\"type\":\"Circle\"},{\"attributes\":{\"below\":[{\"id\":\"fb2812f8-65c6-4002-9188-1dc380cae3c0\",\"type\":\"LinearAxis\"}],\"left\":[{\"id\":\"53548443-a7d4-4453-ae89-745b2984d227\",\"type\":\"LinearAxis\"}],\"plot_height\":300,\"plot_width\":300,\"renderers\":[{\"id\":\"fb2812f8-65c6-4002-9188-1dc380cae3c0\",\"type\":\"LinearAxis\"},{\"id\":\"9d41edc4-8063-44ab-aae1-6dc61106bf8b\",\"type\":\"Grid\"},{\"id\":\"53548443-a7d4-4453-ae89-745b2984d227\",\"type\":\"LinearAxis\"},{\"id\":\"53f94310-26ac-431e-856c-8a2a4e4449a5\",\"type\":\"Grid\"},{\"id\":\"88503c2d-983a-4f34-a7f0-9b534f9312ea\",\"type\":\"BoxAnnotation\"},{\"id\":\"f6c7bc5a-c97b-40e1-a5a6-1efebcfe929e\",\"type\":\"GlyphRenderer\"}],\"title\":{\"id\":\"047ba256-8f72-40e3-a3e7-1c79f4bc39e3\",\"type\":\"Title\"},\"toolbar\":{\"id\":\"138e0f1b-cf78-4a13-8553-1a674e1a7793\",\"type\":\"Toolbar\"},\"x_range\":{\"id\":\"6c363f07-b2ab-49bf-9601-2b1485ffbc14\",\"type\":\"Range1d\"},\"x_scale\":{\"id\":\"164dbc3a-5ce1-4e4c-a8b3-a4ff7fd0f15f\",\"type\":\"LinearScale\"},\"y_range\":{\"id\":\"b8426cf2-8221-4c2d-b07e-230c38c38d8f\",\"type\":\"Range1d\"},\"y_scale\":{\"id\":\"5447a990-2798-46d9-8dcc-8207bcea073c\",\"type\":\"LinearScale\"}},\"id\":\"6c6a9cb2-0676-4f85-896f-b3f33f997c07\",\"subtype\":\"Figure\",\"type\":\"Plot\"},{\"attributes\":{\"height\":95,\"width\":200},\"id\":\"f1e49fa8-fa5d-457f-ace8-7caf20052343\",\"type\":\"Div\"},{\"attributes\":{\"height\":80,\"width\":200},\"id\":\"957f6465-9b29-4d89-836e-b9a439a0ce98\",\"type\":\"Div\"},{\"attributes\":{\"children\":[{\"id\":\"957f6465-9b29-4d89-836e-b9a439a0ce98\",\"type\":\"Div\"}]},\"id\":\"01c4f809-91e3-4f48-9537-b81bdfca4e39\",\"type\":\"WidgetBox\"},{\"attributes\":{\"callback\":null,\"column_names\":[\"x0\",\"x1\",\"z0\",\"z1\",\"x0s\",\"x1s\",\"d\",\"dzs\"],\"data\":{\"d\":{\"__ndarray__\":\"AAAAAAAA+H8AAAAAAAD4fwAAAAAAAPh/AAAAAAAA+H8AAAAAAAD4fw==\",\"dtype\":\"float64\",\"shape\":[5]},\"dzs\":{\"__ndarray__\":\"AAAAAAAAAAAAAAAAAAAAAAAAAAAAAAAAAAAAAAAAAAAAAAAAAAAAAA==\",\"dtype\":\"float64\",\"shape\":[5]},\"x0\":{\"__ndarray__\":\"/o75Z7b5/T8Y67BmxyG3P8qvodMwMgPAOtjbQK1P5D+8UXm8PnrJvw==\",\"dtype\":\"float64\",\"shape\":[5]},\"x0s\":[{\"__ndarray__\":\"AAAAAAAA+H8AAAAAAAD4fw==\",\"dtype\":\"float64\",\"shape\":[2]},{\"__ndarray__\":\"AAAAAAAA+H8AAAAAAAD4fw==\",\"dtype\":\"float64\",\"shape\":[2]},{\"__ndarray__\":\"AAAAAAAA+H8AAAAAAAD4fw==\",\"dtype\":\"float64\",\"shape\":[2]},{\"__ndarray__\":\"AAAAAAAA+H8AAAAAAAD4fw==\",\"dtype\":\"float64\",\"shape\":[2]},{\"__ndarray__\":\"AAAAAAAA+H8AAAAAAAD4fw==\",\"dtype\":\"float64\",\"shape\":[2]}],\"x1\":{\"__ndarray__\":\"CSw78Hac4T9f5pz8jJHmP/wDUdVZ4PG/ivpISc4i5D/6BH+LHpDovw==\",\"dtype\":\"float64\",\"shape\":[5]},\"x1s\":[{\"__ndarray__\":\"AAAAAAAA+H8AAAAAAAD4fw==\",\"dtype\":\"float64\",\"shape\":[2]},{\"__ndarray__\":\"AAAAAAAA+H8AAAAAAAD4fw==\",\"dtype\":\"float64\",\"shape\":[2]},{\"__ndarray__\":\"AAAAAAAA+H8AAAAAAAD4fw==\",\"dtype\":\"float64\",\"shape\":[2]},{\"__ndarray__\":\"AAAAAAAA+H8AAAAAAAD4fw==\",\"dtype\":\"float64\",\"shape\":[2]},{\"__ndarray__\":\"AAAAAAAA+H8AAAAAAAD4fw==\",\"dtype\":\"float64\",\"shape\":[2]}],\"z0\":{\"__ndarray__\":\"AAAAAAAA+H8AAAAAAAD4fwAAAAAAAPh/AAAAAAAA+H8AAAAAAAD4fw==\",\"dtype\":\"float64\",\"shape\":[5]},\"z1\":{\"__ndarray__\":\"AAAAAAAA+H8AAAAAAAD4fwAAAAAAAPh/AAAAAAAA+H8AAAAAAAD4fw==\",\"dtype\":\"float64\",\"shape\":[5]}}},\"id\":\"d8f8ffa4-3d53-4cbe-8a7f-79b4850fce8f\",\"type\":\"ColumnDataSource\"},{\"attributes\":{\"below\":[{\"id\":\"30b855fa-667c-455f-9412-9eb0560cb7ba\",\"type\":\"LinearAxis\"}],\"left\":[{\"id\":\"02e7ad73-3d4a-475e-8af1-5d8fc7240080\",\"type\":\"LinearAxis\"}],\"match_aspect\":true,\"renderers\":[{\"id\":\"30b855fa-667c-455f-9412-9eb0560cb7ba\",\"type\":\"LinearAxis\"},{\"id\":\"bd62d58c-fb63-48f8-b0f1-a3e25e2c9a43\",\"type\":\"Grid\"},{\"id\":\"02e7ad73-3d4a-475e-8af1-5d8fc7240080\",\"type\":\"LinearAxis\"},{\"id\":\"413792d2-a773-4f6e-8a12-8d628f03f761\",\"type\":\"Grid\"},{\"id\":\"e86e01e4-9f42-45ba-aa1c-5a90d5188a50\",\"type\":\"BoxAnnotation\"},{\"id\":\"43d0d3ee-58ad-4555-bb3a-bbd84b4320ee\",\"type\":\"GlyphRenderer\"},{\"id\":\"f80f2623-4e56-4052-86a5-c3cc8566cab9\",\"type\":\"GlyphRenderer\"},{\"id\":\"537da0a5-b8fe-420e-bf12-2f34fb301c4d\",\"type\":\"GlyphRenderer\"},{\"id\":\"cd59757f-9769-4cbe-a8a6-32871b4bdaff\",\"type\":\"GlyphRenderer\"}],\"title\":{\"id\":\"63c8b1ed-bbcc-41d8-87f2-b8e6013426ec\",\"type\":\"Title\"},\"toolbar\":{\"id\":\"752ccee1-bb63-442a-b136-b2e1a692e7b0\",\"type\":\"Toolbar\"},\"x_range\":{\"id\":\"803bcc2b-5441-4ade-92d9-f2bc539f4012\",\"type\":\"Range1d\"},\"x_scale\":{\"id\":\"8cb99329-af15-41d3-8890-91db366ded71\",\"type\":\"LinearScale\"},\"y_range\":{\"id\":\"d75f6f9a-49b6-4806-8ee2-1701731fc6e6\",\"type\":\"Range1d\"},\"y_scale\":{\"id\":\"dfdd2a00-06d6-490d-bc04-0691e212984f\",\"type\":\"LinearScale\"}},\"id\":\"3ec454d4-c3d2-471c-8f01-d61504e79696\",\"subtype\":\"Figure\",\"type\":\"Plot\"},{\"attributes\":{\"children\":[{\"id\":\"8513accb-7897-40f8-8a1d-8fbf661e402c\",\"type\":\"Column\"},{\"id\":\"322bac5c-2222-40ac-b618-a68b3d4715a8\",\"type\":\"Column\"}]},\"id\":\"da9ccc86-9ef9-44b1-bcf7-7762888062fc\",\"type\":\"Row\"},{\"attributes\":{\"children\":[{\"id\":\"2379ab21-ed5a-4d9b-82d1-c34e414302cb\",\"type\":\"Div\"}]},\"id\":\"4c57fa9f-d90b-4995-8483-52b06b3aa815\",\"type\":\"WidgetBox\"},{\"attributes\":{},\"id\":\"ad882c10-ecea-4d85-94aa-446b9e6880a4\",\"type\":\"BasicTickFormatter\"},{\"attributes\":{\"active_drag\":\"auto\",\"active_inspect\":\"auto\",\"active_scroll\":\"auto\",\"active_tap\":\"auto\",\"tools\":[{\"id\":\"fa6a06c4-6a91-419e-b112-fc1db924c3fa\",\"type\":\"PanTool\"},{\"id\":\"b3edb95d-565b-4520-840e-a578444e3897\",\"type\":\"WheelZoomTool\"},{\"id\":\"0a5d499a-6a93-4c03-8452-abff36a1587e\",\"type\":\"BoxZoomTool\"},{\"id\":\"775fcc29-eeca-4eee-9b56-903f6b75b2b0\",\"type\":\"SaveTool\"},{\"id\":\"ca50203c-3276-4077-b594-4074490a321c\",\"type\":\"ResetTool\"},{\"id\":\"05aa8116-913e-45b4-8f64-b226537b0d4a\",\"type\":\"HelpTool\"}]},\"id\":\"752ccee1-bb63-442a-b136-b2e1a692e7b0\",\"type\":\"Toolbar\"},{\"attributes\":{\"children\":[{\"id\":\"6b76c6c0-fc86-4547-baf3-64de76c57d45\",\"type\":\"Slider\"}]},\"id\":\"4c11c414-5005-42a0-af95-479427b636a8\",\"type\":\"WidgetBox\"},{\"attributes\":{\"callback\":null,\"end\":2.5,\"start\":-3},\"id\":\"803bcc2b-5441-4ade-92d9-f2bc539f4012\",\"type\":\"Range1d\"},{\"attributes\":{\"children\":[{\"id\":\"f1e49fa8-fa5d-457f-ace8-7caf20052343\",\"type\":\"Div\"}]},\"id\":\"9d5e2199-7e9f-4efe-8d0c-6b3faefd9788\",\"type\":\"WidgetBox\"},{\"attributes\":{\"children\":[{\"id\":\"da9ccc86-9ef9-44b1-bcf7-7762888062fc\",\"type\":\"Row\"}]},\"id\":\"5ece7da4-5ece-48bc-9a29-04736a4720de\",\"type\":\"Column\"},{\"attributes\":{\"callback\":null,\"end\":2.5,\"start\":-2.5},\"id\":\"d75f6f9a-49b6-4806-8ee2-1701731fc6e6\",\"type\":\"Range1d\"},{\"attributes\":{\"children\":[{\"id\":\"4c57fa9f-d90b-4995-8483-52b06b3aa815\",\"type\":\"WidgetBox\"},{\"id\":\"3ec454d4-c3d2-471c-8f01-d61504e79696\",\"subtype\":\"Figure\",\"type\":\"Plot\"}]},\"id\":\"8513accb-7897-40f8-8a1d-8fbf661e402c\",\"type\":\"Column\"},{\"attributes\":{},\"id\":\"8cb99329-af15-41d3-8890-91db366ded71\",\"type\":\"LinearScale\"},{\"attributes\":{},\"id\":\"dfdd2a00-06d6-490d-bc04-0691e212984f\",\"type\":\"LinearScale\"},{\"attributes\":{\"children\":[{\"id\":\"01c4f809-91e3-4f48-9537-b81bdfca4e39\",\"type\":\"WidgetBox\"},{\"id\":\"4c11c414-5005-42a0-af95-479427b636a8\",\"type\":\"WidgetBox\"},{\"id\":\"9d5e2199-7e9f-4efe-8d0c-6b3faefd9788\",\"type\":\"WidgetBox\"},{\"id\":\"6c6a9cb2-0676-4f85-896f-b3f33f997c07\",\"subtype\":\"Figure\",\"type\":\"Plot\"}]},\"id\":\"322bac5c-2222-40ac-b618-a68b3d4715a8\",\"type\":\"Column\"},{\"attributes\":{\"active_drag\":\"auto\",\"active_inspect\":\"auto\",\"active_scroll\":\"auto\",\"active_tap\":\"auto\",\"tools\":[{\"id\":\"0007d9ee-dcca-41f4-9fd1-f550caacc543\",\"type\":\"PanTool\"},{\"id\":\"32c79727-2a4e-4752-97f8-8a4ebe600358\",\"type\":\"WheelZoomTool\"},{\"id\":\"5d95bcdc-98db-4ad4-a512-4956a5bb02e7\",\"type\":\"BoxZoomTool\"},{\"id\":\"2e1ba3ae-56e2-43a8-8486-5bfe88c1dcdd\",\"type\":\"SaveTool\"},{\"id\":\"9d7c5adb-409a-4d5c-8ed1-9c6b1668fbd1\",\"type\":\"ResetTool\"},{\"id\":\"bcfa3d83-d045-4a81-882d-1ada4b223401\",\"type\":\"HelpTool\"}]},\"id\":\"138e0f1b-cf78-4a13-8553-1a674e1a7793\",\"type\":\"Toolbar\"},{\"attributes\":{\"formatter\":{\"id\":\"9c743c7e-f253-480d-8d6a-5358f3781c1f\",\"type\":\"BasicTickFormatter\"},\"plot\":{\"id\":\"3ec454d4-c3d2-471c-8f01-d61504e79696\",\"subtype\":\"Figure\",\"type\":\"Plot\"},\"ticker\":{\"id\":\"f55d1642-a598-4187-a1c4-53c31dff3431\",\"type\":\"BasicTicker\"}},\"id\":\"30b855fa-667c-455f-9412-9eb0560cb7ba\",\"type\":\"LinearAxis\"},{\"attributes\":{},\"id\":\"f55d1642-a598-4187-a1c4-53c31dff3431\",\"type\":\"BasicTicker\"},{\"attributes\":{\"plot\":{\"id\":\"3ec454d4-c3d2-471c-8f01-d61504e79696\",\"subtype\":\"Figure\",\"type\":\"Plot\"},\"ticker\":{\"id\":\"f55d1642-a598-4187-a1c4-53c31dff3431\",\"type\":\"BasicTicker\"}},\"id\":\"bd62d58c-fb63-48f8-b0f1-a3e25e2c9a43\",\"type\":\"Grid\"},{\"attributes\":{\"formatter\":{\"id\":\"d4f4aa8e-5d5f-448c-8e29-fbba2c396818\",\"type\":\"BasicTickFormatter\"},\"plot\":{\"id\":\"3ec454d4-c3d2-471c-8f01-d61504e79696\",\"subtype\":\"Figure\",\"type\":\"Plot\"},\"ticker\":{\"id\":\"47f6dce6-d5b3-4272-908e-dbae09944908\",\"type\":\"BasicTicker\"}},\"id\":\"02e7ad73-3d4a-475e-8af1-5d8fc7240080\",\"type\":\"LinearAxis\"},{\"attributes\":{\"fill_alpha\":{\"value\":0.1},\"fill_color\":{\"value\":\"#1f77b4\"},\"line_alpha\":{\"value\":0.1},\"line_color\":{\"value\":\"#1f77b4\"},\"x\":{\"field\":\"d\"},\"y\":{\"field\":\"dzs\"}},\"id\":\"842a0c69-58e4-4ec2-9907-3a58788b6a66\",\"type\":\"Circle\"},{\"attributes\":{},\"id\":\"47f6dce6-d5b3-4272-908e-dbae09944908\",\"type\":\"BasicTicker\"},{\"attributes\":{\"dimension\":1,\"plot\":{\"id\":\"3ec454d4-c3d2-471c-8f01-d61504e79696\",\"subtype\":\"Figure\",\"type\":\"Plot\"},\"ticker\":{\"id\":\"47f6dce6-d5b3-4272-908e-dbae09944908\",\"type\":\"BasicTicker\"}},\"id\":\"413792d2-a773-4f6e-8a12-8d628f03f761\",\"type\":\"Grid\"},{\"attributes\":{\"bottom_units\":\"screen\",\"fill_alpha\":{\"value\":0.5},\"fill_color\":{\"value\":\"lightgrey\"},\"left_units\":\"screen\",\"level\":\"overlay\",\"line_alpha\":{\"value\":1.0},\"line_color\":{\"value\":\"black\"},\"line_dash\":[4,4],\"line_width\":{\"value\":2},\"plot\":null,\"render_mode\":\"css\",\"right_units\":\"screen\",\"top_units\":\"screen\"},\"id\":\"e86e01e4-9f42-45ba-aa1c-5a90d5188a50\",\"type\":\"BoxAnnotation\"},{\"attributes\":{\"source\":{\"id\":\"d8f8ffa4-3d53-4cbe-8a7f-79b4850fce8f\",\"type\":\"ColumnDataSource\"}},\"id\":\"12acdd61-e28c-4d31-9756-a7c1b42b4dac\",\"type\":\"CDSView\"},{\"attributes\":{\"callback\":null,\"end\":3,\"start\":-3},\"id\":\"6c363f07-b2ab-49bf-9601-2b1485ffbc14\",\"type\":\"Range1d\"},{\"attributes\":{},\"id\":\"fa6a06c4-6a91-419e-b112-fc1db924c3fa\",\"type\":\"PanTool\"},{\"attributes\":{\"callback\":null,\"end\":2.5,\"start\":-2.5},\"id\":\"b8426cf2-8221-4c2d-b07e-230c38c38d8f\",\"type\":\"Range1d\"},{\"attributes\":{},\"id\":\"b3edb95d-565b-4520-840e-a578444e3897\",\"type\":\"WheelZoomTool\"},{\"attributes\":{\"overlay\":{\"id\":\"e86e01e4-9f42-45ba-aa1c-5a90d5188a50\",\"type\":\"BoxAnnotation\"}},\"id\":\"0a5d499a-6a93-4c03-8452-abff36a1587e\",\"type\":\"BoxZoomTool\"},{\"attributes\":{},\"id\":\"775fcc29-eeca-4eee-9b56-903f6b75b2b0\",\"type\":\"SaveTool\"},{\"attributes\":{},\"id\":\"ca50203c-3276-4077-b594-4074490a321c\",\"type\":\"ResetTool\"},{\"attributes\":{},\"id\":\"05aa8116-913e-45b4-8f64-b226537b0d4a\",\"type\":\"HelpTool\"},{\"attributes\":{\"plot\":{\"id\":\"6c6a9cb2-0676-4f85-896f-b3f33f997c07\",\"subtype\":\"Figure\",\"type\":\"Plot\"},\"ticker\":{\"id\":\"57e3262c-847d-41f5-ad34-29d3938106ba\",\"type\":\"BasicTicker\"}},\"id\":\"9d41edc4-8063-44ab-aae1-6dc61106bf8b\",\"type\":\"Grid\"},{\"attributes\":{},\"id\":\"164dbc3a-5ce1-4e4c-a8b3-a4ff7fd0f15f\",\"type\":\"LinearScale\"},{\"attributes\":{},\"id\":\"5447a990-2798-46d9-8dcc-8207bcea073c\",\"type\":\"LinearScale\"},{\"attributes\":{\"formatter\":{\"id\":\"2669006b-4248-4d7e-b4e2-107920505407\",\"type\":\"BasicTickFormatter\"},\"plot\":{\"id\":\"6c6a9cb2-0676-4f85-896f-b3f33f997c07\",\"subtype\":\"Figure\",\"type\":\"Plot\"},\"ticker\":{\"id\":\"57e3262c-847d-41f5-ad34-29d3938106ba\",\"type\":\"BasicTicker\"}},\"id\":\"fb2812f8-65c6-4002-9188-1dc380cae3c0\",\"type\":\"LinearAxis\"},{\"attributes\":{\"data_source\":{\"id\":\"d8f8ffa4-3d53-4cbe-8a7f-79b4850fce8f\",\"type\":\"ColumnDataSource\"},\"glyph\":{\"id\":\"6e644b1e-78d3-4b5a-8ea2-2750c690472f\",\"type\":\"Circle\"},\"hover_glyph\":null,\"muted_glyph\":null,\"nonselection_glyph\":{\"id\":\"842a0c69-58e4-4ec2-9907-3a58788b6a66\",\"type\":\"Circle\"},\"selection_glyph\":null,\"view\":{\"id\":\"12acdd61-e28c-4d31-9756-a7c1b42b4dac\",\"type\":\"CDSView\"}},\"id\":\"f6c7bc5a-c97b-40e1-a5a6-1efebcfe929e\",\"type\":\"GlyphRenderer\"},{\"attributes\":{\"formatter\":{\"id\":\"ad882c10-ecea-4d85-94aa-446b9e6880a4\",\"type\":\"BasicTickFormatter\"},\"plot\":{\"id\":\"6c6a9cb2-0676-4f85-896f-b3f33f997c07\",\"subtype\":\"Figure\",\"type\":\"Plot\"},\"ticker\":{\"id\":\"d6a6c8a2-1abd-4be0-a49a-543e0b60f994\",\"type\":\"BasicTicker\"}},\"id\":\"53548443-a7d4-4453-ae89-745b2984d227\",\"type\":\"LinearAxis\"},{\"attributes\":{},\"id\":\"57e3262c-847d-41f5-ad34-29d3938106ba\",\"type\":\"BasicTicker\"},{\"attributes\":{\"dimension\":1,\"plot\":{\"id\":\"6c6a9cb2-0676-4f85-896f-b3f33f997c07\",\"subtype\":\"Figure\",\"type\":\"Plot\"},\"ticker\":{\"id\":\"d6a6c8a2-1abd-4be0-a49a-543e0b60f994\",\"type\":\"BasicTicker\"}},\"id\":\"53f94310-26ac-431e-856c-8a2a4e4449a5\",\"type\":\"Grid\"},{\"attributes\":{},\"id\":\"d6a6c8a2-1abd-4be0-a49a-543e0b60f994\",\"type\":\"BasicTicker\"},{\"attributes\":{\"bottom_units\":\"screen\",\"fill_alpha\":{\"value\":0.5},\"fill_color\":{\"value\":\"lightgrey\"},\"left_units\":\"screen\",\"level\":\"overlay\",\"line_alpha\":{\"value\":1.0},\"line_color\":{\"value\":\"black\"},\"line_dash\":[4,4],\"line_width\":{\"value\":2},\"plot\":null,\"render_mode\":\"css\",\"right_units\":\"screen\",\"top_units\":\"screen\"},\"id\":\"88503c2d-983a-4f34-a7f0-9b534f9312ea\",\"type\":\"BoxAnnotation\"},{\"attributes\":{},\"id\":\"0007d9ee-dcca-41f4-9fd1-f550caacc543\",\"type\":\"PanTool\"},{\"attributes\":{},\"id\":\"2669006b-4248-4d7e-b4e2-107920505407\",\"type\":\"BasicTickFormatter\"},{\"attributes\":{},\"id\":\"32c79727-2a4e-4752-97f8-8a4ebe600358\",\"type\":\"WheelZoomTool\"},{\"attributes\":{\"overlay\":{\"id\":\"88503c2d-983a-4f34-a7f0-9b534f9312ea\",\"type\":\"BoxAnnotation\"}},\"id\":\"5d95bcdc-98db-4ad4-a512-4956a5bb02e7\",\"type\":\"BoxZoomTool\"},{\"attributes\":{},\"id\":\"2e1ba3ae-56e2-43a8-8486-5bfe88c1dcdd\",\"type\":\"SaveTool\"},{\"attributes\":{},\"id\":\"9d7c5adb-409a-4d5c-8ed1-9c6b1668fbd1\",\"type\":\"ResetTool\"},{\"attributes\":{},\"id\":\"bcfa3d83-d045-4a81-882d-1ada4b223401\",\"type\":\"HelpTool\"},{\"attributes\":{\"plot\":null,\"text\":\"\"},\"id\":\"047ba256-8f72-40e3-a3e7-1c79f4bc39e3\",\"type\":\"Title\"}],\"root_ids\":[\"5ece7da4-5ece-48bc-9a29-04736a4720de\"]},\"title\":\"Bokeh Application\",\"version\":\"0.12.13\"}};\n",
       "  var render_items = [{\"docid\":\"d5b8bd16-070c-43b1-8962-164a66719792\",\"elementid\":\"b2cbebbe-9f92-405c-beb5-0abfbeba888c\",\"modelid\":\"5ece7da4-5ece-48bc-9a29-04736a4720de\"}];\n",
       "  root.Bokeh.embed.embed_items_notebook(docs_json, render_items);\n",
       "\n",
       "  }\n",
       "  if (root.Bokeh !== undefined) {\n",
       "    embed_document(root);\n",
       "  } else {\n",
       "    var attempts = 0;\n",
       "    var timer = setInterval(function(root) {\n",
       "      if (root.Bokeh !== undefined) {\n",
       "        embed_document(root);\n",
       "        clearInterval(timer);\n",
       "      }\n",
       "      attempts++;\n",
       "      if (attempts > 100) {\n",
       "        console.log(\"Bokeh: ERROR: Unable to run BokehJS code because BokehJS library is missing\")\n",
       "        clearInterval(timer);\n",
       "      }\n",
       "    }, 10, root)\n",
       "  }\n",
       "})(window);"
      ],
      "application/vnd.bokehjs_exec.v0+json": ""
     },
     "metadata": {
      "application/vnd.bokehjs_exec.v0+json": {
       "id": "5ece7da4-5ece-48bc-9a29-04736a4720de"
      }
     },
     "output_type": "display_data"
    }
   ],
   "source": [
    "# bokeh plot\n",
    "\n",
    "# pre-populate data source object\n",
    "z0 = np.nan*np.zeros(len(X))\n",
    "z1 = np.nan*np.zeros(len(X))\n",
    "x0s = [np.array(np.nan*np.zeros(2)) for i in range(0,len(X))]\n",
    "x1s = [np.array(np.nan*np.zeros(2)) for i in range(0,len(X))]\n",
    "d = np.nan*np.zeros(len(X))\n",
    "dzs = np.zeros(len(X))\n",
    "\n",
    "# data source\n",
    "source_data = ColumnDataSource(data=dict(x0=X[:,0], x1=X[:,1], z0=z0, z1=z1, x0s=x0s, x1s=x1s, d=d, dzs=dzs))\n",
    "\n",
    "# main plot\n",
    "plot = figure(x_range=(-3, 2.5), y_range=(-2.5, 2.5), plot_width=600, plot_height=600, match_aspect=True)\n",
    "\n",
    "# plot the new components in the mini-plot on the right\n",
    "var_plot = figure(x_range=(-3, 3), y_range=(-2.5, 2.5), plot_width = 300, plot_height = 300)\n",
    "var_plot.scatter('d', 'dzs', source=source_data, color='firebrick', alpha=0.6)\n",
    "\n",
    "# plot the data\n",
    "plot.scatter('x0', 'x1', source=source_data, color='navy', alpha=0.6, size=5)\n",
    "\n",
    "# plot the new axis\n",
    "plot.line('z0', 'z1', source=source_data, color='black', alpha=0.5)\n",
    "\n",
    "# plot the projections of the data onto the rotating line\n",
    "plot.scatter('z0', 'z1', source=source_data, color='firebrick', alpha=0.6)\n",
    "\n",
    "# plot all the lines connecting the data dots to the projection dots\n",
    "glyph = MultiLine(xs = \"x0s\", ys = \"x1s\", line_color=\"#8073ac\", line_width=1)\n",
    "plot.add_glyph(source_data, glyph)\n",
    "\n",
    "# the javascript code that calculates all the projection dots depending upon the user-chosen angle for the line to project onto\n",
    "callback = CustomJS(args=dict(source=source_data), code=\"\"\"\n",
    "    var data = source.data;\n",
    "    var x0 = data['x0']\n",
    "    var x1 = data['x1']\n",
    "    \n",
    "    var d = data['d']\n",
    "    \n",
    "    var z0 = data['z0']\n",
    "    var z1 = data['z1']\n",
    "    \n",
    "    var x0s = data['x0s']\n",
    "    var x1s = data['x1s']\n",
    "    \n",
    "    var A = ang.value*Math.PI/180;\n",
    "\n",
    "    var w = [Math.cos(A), Math.sin(A)];\n",
    "\n",
    "    for (var i = 0; i < x0.length; i++) {\n",
    "        d[i] = x0[i]*w[0] + x1[i]*w[1];\n",
    "        z0[i] = w[0]*d[i];\n",
    "        z1[i] = w[1]*d[i];\n",
    "        x0s[i] = [x0[i], z0[i]];\n",
    "        x1s[i] = [x1[i], z1[i]];\n",
    "    }\n",
    "\n",
    "    data['z0'] = z0\n",
    "    data['z1'] = z1\n",
    "    data['x0s'] = x0s\n",
    "    data['x1s'] = x1s\n",
    "    data['d'] = d\n",
    "    \n",
    "    source.change.emit();\n",
    "\"\"\")\n",
    "\n",
    "# make the slider bar\n",
    "ang_slider = Slider(start=0, end=180, value=1, step=.05, title=\"Angle\", callback=callback)\n",
    "callback.args[\"ang\"] = ang_slider\n",
    "\n",
    "# add output text\n",
    "div = Div(text=\"Instructions: There's a lot of code in the cell above! What just happened? The blue dots are our original data points. We are choosing the direction of the first PC for this dataset; this direction is represented by the black line. The red dots are the projections of the data onto the new basis direction. Using the slider bar, change the angle of the new basis direction, and observe how the projections and the variance of the projections, represented by the spread of the points in the plot on the right, change.\", width=900, height=100)\n",
    "\n",
    "# empty space div\n",
    "space_div_1 = Div(width=200, height=80)\n",
    "space_div_2 = Div(width=200, height=95)\n",
    "\n",
    "# plot layout\n",
    "lo = layout([\n",
    "  [[widgetbox(div), plot], [widgetbox(space_div_1), widgetbox(ang_slider), widgetbox(space_div_2), var_plot]],\n",
    "])\n",
    "\n",
    "# display\n",
    "show(lo)"
   ]
  },
  {
   "cell_type": "markdown",
   "metadata": {},
   "source": [
    "## Quiz\n",
    "Once you've played around with the interactive plot above, submit the following quiz. Based on what you've learned in the lessons about what PCA does, eyeball the plot above and choose the approximate direction of the first principal component for the above dataset. Submit your answer as an angle in degrees. Here, we are just looking for an approximate value, so we are not looking for a calculation of the correct angle, just an approximation. It will be scored correct if it's right to within ±10°."
   ]
  },
  {
   "cell_type": "code",
   "execution_count": 11,
   "metadata": {},
   "outputs": [
    {
     "name": "stdout",
     "output_type": "stream",
     "text": [
      "Tests Passed\n"
     ]
    }
   ],
   "source": [
    "import quiz_tests\n",
    "\n",
    "# Fill in the value of the angle\n",
    "angle = 20.70\n",
    "\n",
    "quiz_tests.test_direction_of_first_PC(angle)"
   ]
  }
 ],
 "metadata": {
  "kernelspec": {
   "display_name": "Python 3",
   "language": "python",
   "name": "python3"
  },
  "language_info": {
   "codemirror_mode": {
    "name": "ipython",
    "version": 3
   },
   "file_extension": ".py",
   "mimetype": "text/x-python",
   "name": "python",
   "nbconvert_exporter": "python",
   "pygments_lexer": "ipython3",
   "version": "3.6.3"
  }
 },
 "nbformat": 4,
 "nbformat_minor": 2
}
